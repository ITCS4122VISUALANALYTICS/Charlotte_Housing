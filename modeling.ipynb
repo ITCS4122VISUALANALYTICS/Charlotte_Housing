{
 "cells": [
  {
   "cell_type": "code",
   "execution_count": 1,
   "id": "3f02db79-213d-43cb-92e0-759ac2e7409d",
   "metadata": {},
   "outputs": [],
   "source": [
    "from pycaret.regression import *"
   ]
  },
  {
   "cell_type": "code",
   "execution_count": 2,
   "id": "d0a874c3-3ce7-4884-b4f8-d3d1a0f5d539",
   "metadata": {
    "collapsed": true,
    "jupyter": {
     "outputs_hidden": true
    },
    "tags": []
   },
   "outputs": [
    {
     "data": {
      "text/plain": [
       "\u001b[0;31mSignature:\u001b[0m\n",
       "\u001b[0mload_model\u001b[0m\u001b[0;34m(\u001b[0m\u001b[0;34m\u001b[0m\n",
       "\u001b[0;34m\u001b[0m    \u001b[0mmodel_name\u001b[0m\u001b[0;34m,\u001b[0m\u001b[0;34m\u001b[0m\n",
       "\u001b[0;34m\u001b[0m    \u001b[0mplatform\u001b[0m\u001b[0;34m:\u001b[0m \u001b[0mOptional\u001b[0m\u001b[0;34m[\u001b[0m\u001b[0mstr\u001b[0m\u001b[0;34m]\u001b[0m \u001b[0;34m=\u001b[0m \u001b[0;32mNone\u001b[0m\u001b[0;34m,\u001b[0m\u001b[0;34m\u001b[0m\n",
       "\u001b[0;34m\u001b[0m    \u001b[0mauthentication\u001b[0m\u001b[0;34m:\u001b[0m \u001b[0mOptional\u001b[0m\u001b[0;34m[\u001b[0m\u001b[0mDict\u001b[0m\u001b[0;34m[\u001b[0m\u001b[0mstr\u001b[0m\u001b[0;34m,\u001b[0m \u001b[0mstr\u001b[0m\u001b[0;34m]\u001b[0m\u001b[0;34m]\u001b[0m \u001b[0;34m=\u001b[0m \u001b[0;32mNone\u001b[0m\u001b[0;34m,\u001b[0m\u001b[0;34m\u001b[0m\n",
       "\u001b[0;34m\u001b[0m    \u001b[0mverbose\u001b[0m\u001b[0;34m:\u001b[0m \u001b[0mbool\u001b[0m \u001b[0;34m=\u001b[0m \u001b[0;32mTrue\u001b[0m\u001b[0;34m,\u001b[0m\u001b[0;34m\u001b[0m\n",
       "\u001b[0;34m\u001b[0m\u001b[0;34m)\u001b[0m\u001b[0;34m\u001b[0m\u001b[0;34m\u001b[0m\u001b[0m\n",
       "\u001b[0;31mDocstring:\u001b[0m\n",
       "This function loads a previously saved pipeline.\n",
       "\n",
       "Example\n",
       "-------\n",
       ">>> from pycaret.regression import load_model\n",
       ">>> saved_lr = load_model('saved_lr_model')\n",
       "\n",
       "\n",
       "model_name: str\n",
       "    Name of the model.\n",
       "\n",
       "\n",
       "platform: str, default = None\n",
       "    Name of the cloud platform. Currently supported platforms:\n",
       "    'aws', 'gcp' and 'azure'.\n",
       "\n",
       "\n",
       "authentication: dict, default = None\n",
       "    dictionary of applicable authentication tokens.\n",
       "\n",
       "    when platform = 'aws':\n",
       "    {'bucket' : 'Name of Bucket on S3', 'path': (optional) folder name under the bucket}\n",
       "\n",
       "    when platform = 'gcp':\n",
       "    {'project': 'gcp-project-name', 'bucket' : 'gcp-bucket-name'}\n",
       "\n",
       "    when platform = 'azure':\n",
       "    {'container': 'azure-container-name'}\n",
       "\n",
       "\n",
       "verbose: bool, default = True\n",
       "    Success message is not printed when verbose is set to False.\n",
       "\n",
       "\n",
       "Returns:\n",
       "    Trained Model\n",
       "\u001b[0;31mFile:\u001b[0m      ~/.local/lib/python3.9/site-packages/pycaret/regression.py\n",
       "\u001b[0;31mType:\u001b[0m      function\n"
      ]
     },
     "metadata": {},
     "output_type": "display_data"
    }
   ],
   "source": [
    "load_model?"
   ]
  }
 ],
 "metadata": {
  "kernelspec": {
   "display_name": "Python 3 (ipykernel)",
   "language": "python",
   "name": "python3"
  },
  "language_info": {
   "codemirror_mode": {
    "name": "ipython",
    "version": 3
   },
   "file_extension": ".py",
   "mimetype": "text/x-python",
   "name": "python",
   "nbconvert_exporter": "python",
   "pygments_lexer": "ipython3",
   "version": "3.9.7"
  }
 },
 "nbformat": 4,
 "nbformat_minor": 5
}
