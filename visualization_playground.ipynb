{
 "cells": [
  {
   "cell_type": "code",
   "execution_count": 3,
   "id": "92652348-9156-466c-98c8-222ef2326cf8",
   "metadata": {},
   "outputs": [],
   "source": [
    "import pandas as pd\n",
    "from lookup import *"
   ]
  },
  {
   "cell_type": "code",
   "execution_count": 4,
   "id": "ac0aaa16-dc33-49e3-bfae-16b4baad53b6",
   "metadata": {},
   "outputs": [],
   "source": [
    "df = pd.read_csv(\"data_sets/df_cleaned.csv\")"
   ]
  },
  {
   "cell_type": "code",
   "execution_count": 8,
   "id": "9d500e99-0227-41a0-8466-9dbf7c84db11",
   "metadata": {},
   "outputs": [
    {
     "data": {
      "text/plain": [
       "'Lot size'"
      ]
     },
     "execution_count": 8,
     "metadata": {},
     "output_type": "execute_result"
    }
   ],
   "source": [
    "lookup_feat('ACR')"
   ]
  }
 ],
 "metadata": {
  "kernelspec": {
   "display_name": "Python 3 (ipykernel)",
   "language": "python",
   "name": "python3"
  },
  "language_info": {
   "codemirror_mode": {
    "name": "ipython",
    "version": 3
   },
   "file_extension": ".py",
   "mimetype": "text/x-python",
   "name": "python",
   "nbconvert_exporter": "python",
   "pygments_lexer": "ipython3",
   "version": "3.9.7"
  }
 },
 "nbformat": 4,
 "nbformat_minor": 5
}
